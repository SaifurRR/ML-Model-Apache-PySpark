{ 
  "nbformat": 4,
  "nbformat_minor": 0,
  "metadata": {   
    "colab": {
      "provenance": []
    },   
    "kernelspec": { 
      "name": "python3",
      "display_name": "Python 3"
    },
    "language_info": {
      "name": "python"
    }   
  }, 
  "cells": [  
    {
      "cell_type": "markdown",
      "source": [
        "**Load PySpark: structured data using 'df' for HPC**"
      ],
      "metadata": {
        "id": "CbKWy6YidPB8"
      }
    },  
    {
      "cell_type": "code",
      "source": [
        "pip install pyspark\n"
      ],
      "metadata": {
        "id": "xBXlcCFZYF-L",
        "colab": {
          "base_uri": "https://localhost:8080/"
        },
        "outputId": "6ebe4fbc-c7c9-4d63-b9cd-792d88a0d35a"
      },   
      "execution_count": 2,
      "outputs": [     
        {
          "output_type": "stream",
          "name": "stdout",
          "text": [
            "Requirement already satisfied: pyspark in /usr/local/lib/python3.10/dist-packages (3.5.0)\n",
            "Requirement already satisfied: py4j==0.10.9.7 in /usr/local/lib/python3.10/dist-packages (from pyspark) (0.10.9.7)\n"
          ]
        }
      ]
    },
    {
      "cell_type": "code",
      "source": [
        "from pyspark.sql import SparkSession\n",
        "\n",   
        "# Create a Spark session\n",
        "spark = SparkSession.builder \\\n",
        "    .appName(\"SparkML\") \\\n",
        "    .getOrCreate()\n",   
        "\n",   
        "# Test Spark session\n",
        "df = spark.createDataFrame([(1, \"foo\"), (2, \"bar\")], [\"id\", \"value\"]) #[rows],[header]\n",
        "df.show()"
      ],
      "metadata": {
        "id": "oLlQX8OWYGAr",
        "colab": {
          "base_uri": "https://localhost:8080/"
        },
        "outputId": "18e2f0b7-6677-4912-f187-47b224aa190e"
      },
      "execution_count": 5,
      "outputs": [
        {
          "output_type": "stream",
          "name": "stdout",
          "text": [
            "+---+-----+\n",
            "| id|value|\n",
            "+---+-----+\n",
            "|  1|  foo|\n",
            "|  2|  bar|\n",
            "+---+-----+\n",
            "\n"
          ]
        }
      ]
    },
    {
      "cell_type": "markdown",
      "source": [
        "**Clone HMP Dataset from GitHub:**"
      ],
      "metadata": {
        "id": "SagsVF1dUNQm"
      }
    },
    {
      "cell_type": "code",
      "source": [
        "! git clone https://github.com/wchill/HMP_Dataset.git #use https"
      ],
      "metadata": {
        "colab": {
          "base_uri": "https://localhost:8080/"
        },
        "id": "doTGWZy7SNru",
        "outputId": "211dbf8b-1c6c-4a38-8934-06c200d48879"
      },
      "execution_count": 6,
      "outputs": [
        {
          "output_type": "stream",
          "name": "stdout",
          "text": [
            "Cloning into 'HMP_Dataset'...\n",
            "remote: Enumerating objects: 865, done.\u001b[K\n",
            "remote: Total 865 (delta 0), reused 0 (delta 0), pack-reused 865\u001b[K\n",
            "Receiving objects: 100% (865/865), 1010.96 KiB | 12.04 MiB/s, done.\n"
          ]
        }
      ]
    },
    {
      "cell_type": "code",
      "source": [
        "ls HMP_Dataset/ #check files in HMP folder"
      ],
      "metadata": {
        "colab": {
          "base_uri": "https://localhost:8080/"
        },
        "id": "Mg5kHL8PSNxK",
        "outputId": "d97c3e51-4c99-443d-b1f7-012a29ba2a50"
      },
      "execution_count": 7,
      "outputs": [
        {
          "output_type": "stream",
          "name": "stdout",
          "text": [
            "\u001b[0m\u001b[01;34mBrush_teeth\u001b[0m/   \u001b[01;34mDescend_stairs\u001b[0m/  \u001b[01;34mEat_soup\u001b[0m/   impdata.py    \u001b[01;34mPour_water\u001b[0m/     \u001b[01;34mStandup_chair\u001b[0m/\n",
            "\u001b[01;34mClimb_stairs\u001b[0m/  \u001b[01;34mDrink_glass\u001b[0m/     final.py    \u001b[01;34mLiedown_bed\u001b[0m/  README.txt      \u001b[01;34mUse_telephone\u001b[0m/\n",
            "\u001b[01;34mComb_hair\u001b[0m/     \u001b[01;34mEat_meat\u001b[0m/        \u001b[01;34mGetup_bed\u001b[0m/  MANUAL.txt    \u001b[01;34mSitdown_chair\u001b[0m/  \u001b[01;34mWalk\u001b[0m/\n"
          ]
        }
      ]
    },
    {
      "cell_type": "code",
      "source": [
        "ls HMP_Dataset/Brush_teeth #check files in specific folders"
      ],
      "metadata": {
        "colab": {
          "base_uri": "https://localhost:8080/"
        },
        "id": "nd_OnAUvSNzu",
        "outputId": "334190bc-06c3-4aaa-a154-02363252ae4c"
      },
      "execution_count": 8,
      "outputs": [
        {
          "output_type": "stream",
          "name": "stdout",
          "text": [
            "Accelerometer-2011-04-11-13-28-18-brush_teeth-f1.txt\n",
            "Accelerometer-2011-04-11-13-29-54-brush_teeth-f1.txt\n",
            "Accelerometer-2011-05-30-08-35-11-brush_teeth-f1.txt\n",
            "Accelerometer-2011-05-30-09-36-50-brush_teeth-f1.txt\n",
            "Accelerometer-2011-05-30-10-34-16-brush_teeth-m1.txt\n",
            "Accelerometer-2011-05-30-21-10-57-brush_teeth-f1.txt\n",
            "Accelerometer-2011-05-30-21-55-04-brush_teeth-m2.txt\n",
            "Accelerometer-2011-05-31-15-16-47-brush_teeth-f1.txt\n",
            "Accelerometer-2011-06-02-10-42-22-brush_teeth-f1.txt\n",
            "Accelerometer-2011-06-02-10-45-50-brush_teeth-f1.txt\n",
            "Accelerometer-2011-06-06-10-45-27-brush_teeth-f1.txt\n",
            "Accelerometer-2011-06-06-10-48-05-brush_teeth-f1.txt\n"
          ]
        }
      ]
    },
    {
      "cell_type": "code",
      "source": [
        "# check accelerometer data: 'x' 'y' 'z'\n",
        "cat HMP_Dataset/Brush_teeth/Accelerometer-2011-04-11-13-28-18-brush_teeth-f1.txt | head -n 5"
      ],
      "metadata": {
        "colab": {
          "base_uri": "https://localhost:8080/"
        },
        "id": "aJAB2Vlx2oqi",
        "outputId": "40f04f9e-a5fa-41e3-82e4-4c5e8de196ad"
      },
      "execution_count": 11,
      "outputs": [
        {
          "output_type": "stream",
          "name": "stdout",
          "text": [
            "22 49 35\n",
            "22 49 35\n",
            "22 52 35\n",
            "22 52 35\n",
            "21 52 34\n"
          ]
        }
      ]
    },
    {
      "cell_type": "markdown",
      "source": [
        "**Recursively traverse through each folders and create Apache 'df' from .txt & create 'union of all the files:**"
      ],
      "metadata": {
        "id": "0jXeRzxZORFH"
      }
    },
    {
      "cell_type": "code",
      "source": [
        "#define schema for 'df' -> StructType: defines schema for 'df' (names & dtype of col); StructField: define cols (name, type)\n",
        "#IntegerType: dtype of col\n",
        "from pyspark.sql.types import StructType, StructField, IntegerType\n",
        "schema=StructType([\n",
        "    StructField(\"x\",IntegerType(), True),\n",
        "    StructField(\"y\",IntegerType(), True),\n",
        "    StructField(\"z\",IntegerType(), True),\n",
        "]) #True: each column can have 'null-values'"
      ],
      "metadata": {
        "id": "gy1WHiUxYGCj"
      },
      "execution_count": 13,
      "outputs": []
    },
    {
      "cell_type": "markdown",
      "source": [
        "**Filter files: not containing underscores**"
      ],
      "metadata": {
        "id": "oPlZgP7ObNRf"
      }
    },
    {
      "cell_type": "code",
      "source": [
        "import os\n",
        "file_list=os.listdir('HMP_Dataset')\n",
        "file_list"
      ],
      "metadata": {
        "id": "tMQ2m0J4VVcQ",
        "colab": {
          "base_uri": "https://localhost:8080/"
        },
        "outputId": "612b1d9f-10a7-4133-9dfe-5ef55cd86c50"
      },
      "execution_count": 14,
      "outputs": [
        {
          "output_type": "execute_result",
          "data": {
            "text/plain": [
              "['Sitdown_chair',\n",
              " 'Liedown_bed',\n",
              " 'Pour_water',\n",
              " 'README.txt',\n",
              " 'Use_telephone',\n",
              " 'Eat_soup',\n",
              " 'Walk',\n",
              " 'impdata.py',\n",
              " 'Climb_stairs',\n",
              " 'final.py',\n",
              " 'Getup_bed',\n",
              " 'Brush_teeth',\n",
              " 'Descend_stairs',\n",
              " 'Standup_chair',\n",
              " 'MANUAL.txt',\n",
              " 'Eat_meat',\n",
              " '.idea',\n",
              " 'Comb_hair',\n",
              " 'Drink_glass',\n",
              " '.git']"
            ]
          },
          "metadata": {},
          "execution_count": 14
        }
      ]
    },
    {
      "cell_type": "code",
      "source": [
        "#filtered folder lists\n",
        "file_list_filtered=[s for s in file_list if '_' in s]\n",
        "file_list_filtered"
      ],
      "metadata": {
        "id": "CR97OsHoVVfN",
        "colab": {
          "base_uri": "https://localhost:8080/"
        },
        "outputId": "a120ee41-1788-4a06-bbea-dd6dd10bb903"
      },
      "execution_count": 15,
      "outputs": [
        {
          "output_type": "execute_result",
          "data": {
            "text/plain": [
              "['Sitdown_chair',\n",
              " 'Liedown_bed',\n",
              " 'Pour_water',\n",
              " 'Use_telephone',\n",
              " 'Eat_soup',\n",
              " 'Climb_stairs',\n",
              " 'Getup_bed',\n",
              " 'Brush_teeth',\n",
              " 'Descend_stairs',\n",
              " 'Standup_chair',\n",
              " 'Eat_meat',\n",
              " 'Comb_hair',\n",
              " 'Drink_glass']"
            ]
          },
          "metadata": {},
          "execution_count": 15
        }
      ]
    },
    {
      "cell_type": "code",
      "source": [
        "#check file 'type' in each folders\n",
        "for folder in file_list_filtered:\n",
        "  file=os.path.join('HMP_Dataset', folder)\n",
        "  try:\n",
        "    files=os.listdir(file)\n",
        "    print(files)\n",
        "  except FileNotFoundError:\n",
        "    print('File not found')"
      ],
      "metadata": {
        "id": "NepS3CVQhhD9"
      },
      "execution_count": null,
      "outputs": []
    },
    {
      "cell_type": "markdown",
      "source": [
        "**Create Data Frame:**"
      ],
      "metadata": {
        "id": "299eLfXYcViC"
      }
    },
    {
      "cell_type": "code",
      "source": [
        "#lit: create new col in df where all the row values are same for that particular df\n",
        "from pyspark.sql.functions import lit\n",
        "#iterate over the 'file_list_filtered'\n",
        "df=None #empty df to append\n",
        "for category in file_list_filtered: #category: folders\n",
        "  data_files=os.listdir('HMP_Dataset/'+category) #.txt files in each folders\n",
        "  for data_file in data_files: # data files in each folder (each .txt files)\n",
        "    #create temporary df: format -> header, delimiterm,\n",
        "    temp_df=spark.read.option(\"header\", \"false\").option(\"delimiter\", \" \").csv(\"HMP_Dataset/\"+category+'/'+data_file,schema=schema)\n",
        "\n",
        "    temp_df=temp_df.withColumn(\"class\", lit(category)) #append category (folder_name) -> as class\n",
        "    temp_df=temp_df.withColumn(\"source\", lit(data_file)) #append data_file (file_name) -> as source\n",
        "    #append df vertically\n",
        "    if df is None:\n",
        "      df=temp_df\n",
        "    else:\n",
        "      df=df.union(temp_df) #append vertically"
      ],
      "metadata": {
        "id": "I-QU5V9MVVhc"
      },
      "execution_count": 24,
      "outputs": []
    },
    {
      "cell_type": "code",
      "source": [
        "#objective: predict 'class' from 'x', 'y' & 'z' (accelerometer data)\n",
        "df.show() # x, y, z: accelerometer data; class: category; Accelerometer: source"
      ],
      "metadata": {
        "colab": {
          "base_uri": "https://localhost:8080/"
        },
        "id": "GukYkEOHBwCZ",
        "outputId": "316dee93-e8e9-43dc-9123-3558177ee215"
      },
      "execution_count": 25,
      "outputs": [
        {
          "output_type": "stream",
          "name": "stdout",
          "text": [
            "+---+---+---+-------------+--------------------+\n",
            "|  x|  y|  z|        class|              source|\n",
            "+---+---+---+-------------+--------------------+\n",
            "| 20| 41| 47|Sitdown_chair|Accelerometer-201...|\n",
            "| 20| 41| 48|Sitdown_chair|Accelerometer-201...|\n",
            "| 20| 57| 33|Sitdown_chair|Accelerometer-201...|\n",
            "| 21| 41| 47|Sitdown_chair|Accelerometer-201...|\n",
            "| 20| 40| 47|Sitdown_chair|Accelerometer-201...|\n",
            "| 22| 40| 47|Sitdown_chair|Accelerometer-201...|\n",
            "| 22| 40| 47|Sitdown_chair|Accelerometer-201...|\n",
            "| 20| 41| 47|Sitdown_chair|Accelerometer-201...|\n",
            "| 21| 41| 47|Sitdown_chair|Accelerometer-201...|\n",
            "| 21| 41| 46|Sitdown_chair|Accelerometer-201...|\n",
            "| 21| 42| 47|Sitdown_chair|Accelerometer-201...|\n",
            "| 21| 42| 48|Sitdown_chair|Accelerometer-201...|\n",
            "| 20| 42| 47|Sitdown_chair|Accelerometer-201...|\n",
            "| 21| 41| 47|Sitdown_chair|Accelerometer-201...|\n",
            "| 20| 41| 47|Sitdown_chair|Accelerometer-201...|\n",
            "| 21| 41| 47|Sitdown_chair|Accelerometer-201...|\n",
            "| 22| 41| 47|Sitdown_chair|Accelerometer-201...|\n",
            "| 22| 41| 48|Sitdown_chair|Accelerometer-201...|\n",
            "| 22| 41| 48|Sitdown_chair|Accelerometer-201...|\n",
            "| 21| 40| 47|Sitdown_chair|Accelerometer-201...|\n",
            "+---+---+---+-------------+--------------------+\n",
            "only showing top 20 rows\n",
            "\n"
          ]
        }
      ]
    },
    {
      "cell_type": "markdown",
      "source": [
        "**Transform Data:**"
      ],
      "metadata": {
        "id": "l_sk01OxA8JR"
      }
    },
    {
      "cell_type": "code",
      "source": [
        "#1. StringIndexer:\n",
        "#convert categorical class to numerical unique value for ML algorithm:\n",
        "from pyspark.ml.feature import StringIndexer\n",
        "indexer=StringIndexer(inputCol='class', outputCol='classIndex')\n",
        "indexed=indexer.fit(df).transform(df)\n",
        "\n",
        "indexed.show() #classIndex -> numerical equivalent of categorical column : 'class'"
      ],
      "metadata": {
        "id": "V28mL6d4VVjm",
        "colab": {
          "base_uri": "https://localhost:8080/"
        },
        "outputId": "3a22aea1-01bb-44fc-ab7f-001a35aeb9fe"
      },
      "execution_count": 26,
      "outputs": [
        {
          "output_type": "stream",
          "name": "stdout",
          "text": [
            "+---+---+---+-------------+--------------------+----------+\n",
            "|  x|  y|  z|        class|              source|classIndex|\n",
            "+---+---+---+-------------+--------------------+----------+\n",
            "| 20| 41| 47|Sitdown_chair|Accelerometer-201...|       7.0|\n",
            "| 20| 41| 48|Sitdown_chair|Accelerometer-201...|       7.0|\n",
            "| 20| 57| 33|Sitdown_chair|Accelerometer-201...|       7.0|\n",
            "| 21| 41| 47|Sitdown_chair|Accelerometer-201...|       7.0|\n",
            "| 20| 40| 47|Sitdown_chair|Accelerometer-201...|       7.0|\n",
            "| 22| 40| 47|Sitdown_chair|Accelerometer-201...|       7.0|\n",
            "| 22| 40| 47|Sitdown_chair|Accelerometer-201...|       7.0|\n",
            "| 20| 41| 47|Sitdown_chair|Accelerometer-201...|       7.0|\n",
            "| 21| 41| 47|Sitdown_chair|Accelerometer-201...|       7.0|\n",
            "| 21| 41| 46|Sitdown_chair|Accelerometer-201...|       7.0|\n",
            "| 21| 42| 47|Sitdown_chair|Accelerometer-201...|       7.0|\n",
            "| 21| 42| 48|Sitdown_chair|Accelerometer-201...|       7.0|\n",
            "| 20| 42| 47|Sitdown_chair|Accelerometer-201...|       7.0|\n",
            "| 21| 41| 47|Sitdown_chair|Accelerometer-201...|       7.0|\n",
            "| 20| 41| 47|Sitdown_chair|Accelerometer-201...|       7.0|\n",
            "| 21| 41| 47|Sitdown_chair|Accelerometer-201...|       7.0|\n",
            "| 22| 41| 47|Sitdown_chair|Accelerometer-201...|       7.0|\n",
            "| 22| 41| 48|Sitdown_chair|Accelerometer-201...|       7.0|\n",
            "| 22| 41| 48|Sitdown_chair|Accelerometer-201...|       7.0|\n",
            "| 21| 40| 47|Sitdown_chair|Accelerometer-201...|       7.0|\n",
            "+---+---+---+-------------+--------------------+----------+\n",
            "only showing top 20 rows\n",
            "\n"
          ]
        }
      ]
    },
    {
      "cell_type": "code",
      "source": [
        "# 2. One-Hot-Encoding: transform 'classIndex' to OHE encoded vector\n",
        "from pyspark.ml.feature import OneHotEncoder\n",
        "encoder=OneHotEncoder(inputCol='classIndex',outputCol='classCategoryVec')\n",
        "encoded=encoder.fit(indexed).transform(indexed)\n",
        "encoded.show() #classCategoryVec: Apache Spark representation of 'sparseVector':e.g., (12,[7],[1.0]) ->12: elements, [7]: position, [1.0]: value"
      ],
      "metadata": {
        "colab": {
          "base_uri": "https://localhost:8080/"
        },
        "id": "4IZTphzlwxx_",
        "outputId": "71edca12-fe03-4456-c6cc-d42b4e4df235"
      },
      "execution_count": 41,
      "outputs": [
        {
          "output_type": "stream",
          "name": "stdout",
          "text": [
            "+---+---+---+-------------+--------------------+----------+----------------+\n",
            "|  x|  y|  z|        class|              source|classIndex|classCategoryVec|\n",
            "+---+---+---+-------------+--------------------+----------+----------------+\n",
            "| 20| 41| 47|Sitdown_chair|Accelerometer-201...|       7.0|  (12,[7],[1.0])|\n",
            "| 20| 41| 48|Sitdown_chair|Accelerometer-201...|       7.0|  (12,[7],[1.0])|\n",
            "| 20| 57| 33|Sitdown_chair|Accelerometer-201...|       7.0|  (12,[7],[1.0])|\n",
            "| 21| 41| 47|Sitdown_chair|Accelerometer-201...|       7.0|  (12,[7],[1.0])|\n",
            "| 20| 40| 47|Sitdown_chair|Accelerometer-201...|       7.0|  (12,[7],[1.0])|\n",
            "| 22| 40| 47|Sitdown_chair|Accelerometer-201...|       7.0|  (12,[7],[1.0])|\n",
            "| 22| 40| 47|Sitdown_chair|Accelerometer-201...|       7.0|  (12,[7],[1.0])|\n",
            "| 20| 41| 47|Sitdown_chair|Accelerometer-201...|       7.0|  (12,[7],[1.0])|\n",
            "| 21| 41| 47|Sitdown_chair|Accelerometer-201...|       7.0|  (12,[7],[1.0])|\n",
            "| 21| 41| 46|Sitdown_chair|Accelerometer-201...|       7.0|  (12,[7],[1.0])|\n",
            "| 21| 42| 47|Sitdown_chair|Accelerometer-201...|       7.0|  (12,[7],[1.0])|\n",
            "| 21| 42| 48|Sitdown_chair|Accelerometer-201...|       7.0|  (12,[7],[1.0])|\n",
            "| 20| 42| 47|Sitdown_chair|Accelerometer-201...|       7.0|  (12,[7],[1.0])|\n",
            "| 21| 41| 47|Sitdown_chair|Accelerometer-201...|       7.0|  (12,[7],[1.0])|\n",
            "| 20| 41| 47|Sitdown_chair|Accelerometer-201...|       7.0|  (12,[7],[1.0])|\n",
            "| 21| 41| 47|Sitdown_chair|Accelerometer-201...|       7.0|  (12,[7],[1.0])|\n",
            "| 22| 41| 47|Sitdown_chair|Accelerometer-201...|       7.0|  (12,[7],[1.0])|\n",
            "| 22| 41| 48|Sitdown_chair|Accelerometer-201...|       7.0|  (12,[7],[1.0])|\n",
            "| 22| 41| 48|Sitdown_chair|Accelerometer-201...|       7.0|  (12,[7],[1.0])|\n",
            "| 21| 40| 47|Sitdown_chair|Accelerometer-201...|       7.0|  (12,[7],[1.0])|\n",
            "+---+---+---+-------------+--------------------+----------+----------------+\n",
            "only showing top 20 rows\n",
            "\n"
          ]
        }
      ]
    },
    {
      "cell_type": "code",
      "source": [
        "#3. VectorAssembler: assemble multiple feature columns into a feature vector -> a requirement for ML algorithms in Spark.\n",
        "from pyspark.ml.linalg import Vectors\n",
        "from pyspark.ml.feature import VectorAssembler\n",
        "#features: vector fed to ML algorithm\n",
        "vectorAssembler=VectorAssembler(inputCols=['x','y','z'], outputCol='features')\n",
        "\n",
        "features_vectorized=vectorAssembler.transform(encoded)\n",
        "features_vectorized.show() #features column is fed into ML model"
      ],
      "metadata": {
        "colab": {
          "base_uri": "https://localhost:8080/"
        },
        "id": "deTde8Gwwx3K",
        "outputId": "3b75fe40-5bf7-45e8-8a43-50d829c0e7aa"
      },
      "execution_count": 43,
      "outputs": [
        {
          "output_type": "stream",
          "name": "stdout",
          "text": [
            "+---+---+---+-------------+--------------------+----------+----------------+----------------+\n",
            "|  x|  y|  z|        class|              source|classIndex|classCategoryVec|        features|\n",
            "+---+---+---+-------------+--------------------+----------+----------------+----------------+\n",
            "| 20| 41| 47|Sitdown_chair|Accelerometer-201...|       7.0|  (12,[7],[1.0])|[20.0,41.0,47.0]|\n",
            "| 20| 41| 48|Sitdown_chair|Accelerometer-201...|       7.0|  (12,[7],[1.0])|[20.0,41.0,48.0]|\n",
            "| 20| 57| 33|Sitdown_chair|Accelerometer-201...|       7.0|  (12,[7],[1.0])|[20.0,57.0,33.0]|\n",
            "| 21| 41| 47|Sitdown_chair|Accelerometer-201...|       7.0|  (12,[7],[1.0])|[21.0,41.0,47.0]|\n",
            "| 20| 40| 47|Sitdown_chair|Accelerometer-201...|       7.0|  (12,[7],[1.0])|[20.0,40.0,47.0]|\n",
            "| 22| 40| 47|Sitdown_chair|Accelerometer-201...|       7.0|  (12,[7],[1.0])|[22.0,40.0,47.0]|\n",
            "| 22| 40| 47|Sitdown_chair|Accelerometer-201...|       7.0|  (12,[7],[1.0])|[22.0,40.0,47.0]|\n",
            "| 20| 41| 47|Sitdown_chair|Accelerometer-201...|       7.0|  (12,[7],[1.0])|[20.0,41.0,47.0]|\n",
            "| 21| 41| 47|Sitdown_chair|Accelerometer-201...|       7.0|  (12,[7],[1.0])|[21.0,41.0,47.0]|\n",
            "| 21| 41| 46|Sitdown_chair|Accelerometer-201...|       7.0|  (12,[7],[1.0])|[21.0,41.0,46.0]|\n",
            "| 21| 42| 47|Sitdown_chair|Accelerometer-201...|       7.0|  (12,[7],[1.0])|[21.0,42.0,47.0]|\n",
            "| 21| 42| 48|Sitdown_chair|Accelerometer-201...|       7.0|  (12,[7],[1.0])|[21.0,42.0,48.0]|\n",
            "| 20| 42| 47|Sitdown_chair|Accelerometer-201...|       7.0|  (12,[7],[1.0])|[20.0,42.0,47.0]|\n",
            "| 21| 41| 47|Sitdown_chair|Accelerometer-201...|       7.0|  (12,[7],[1.0])|[21.0,41.0,47.0]|\n",
            "| 20| 41| 47|Sitdown_chair|Accelerometer-201...|       7.0|  (12,[7],[1.0])|[20.0,41.0,47.0]|\n",
            "| 21| 41| 47|Sitdown_chair|Accelerometer-201...|       7.0|  (12,[7],[1.0])|[21.0,41.0,47.0]|\n",
            "| 22| 41| 47|Sitdown_chair|Accelerometer-201...|       7.0|  (12,[7],[1.0])|[22.0,41.0,47.0]|\n",
            "| 22| 41| 48|Sitdown_chair|Accelerometer-201...|       7.0|  (12,[7],[1.0])|[22.0,41.0,48.0]|\n",
            "| 22| 41| 48|Sitdown_chair|Accelerometer-201...|       7.0|  (12,[7],[1.0])|[22.0,41.0,48.0]|\n",
            "| 21| 40| 47|Sitdown_chair|Accelerometer-201...|       7.0|  (12,[7],[1.0])|[21.0,40.0,47.0]|\n",
            "+---+---+---+-------------+--------------------+----------+----------------+----------------+\n",
            "only showing top 20 rows\n",
            "\n"
          ]
        }
      ]
    },
    {
      "cell_type": "code",
      "source": [
        "#4. Normalizing data: not particular important as 'x','y' & 'z' have same value range\n",
        "from pyspark.ml.feature import Normalizer\n",
        "normalizer=Normalizer(inputCol='features', outputCol='features_norm', p=1.0) #p=1 ->L1 normalizer (Manhattan Norm)\n",
        "normalized_data=normalizer.transform(features_vectorized)\n",
        "\n",
        "normalized_data.show()"
      ],
      "metadata": {
        "colab": {
          "base_uri": "https://localhost:8080/"
        },
        "id": "W_HwWDfVwx52",
        "outputId": "f9692b95-3ec2-47a8-b5ff-588393700463"
      },
      "execution_count": 46,
      "outputs": [
        {
          "output_type": "stream",
          "name": "stdout",
          "text": [
            "+---+---+---+-------------+--------------------+----------+----------------+----------------+--------------------+\n",
            "|  x|  y|  z|        class|              source|classIndex|classCategoryVec|        features|       features_norm|\n",
            "+---+---+---+-------------+--------------------+----------+----------------+----------------+--------------------+\n",
            "| 20| 41| 47|Sitdown_chair|Accelerometer-201...|       7.0|  (12,[7],[1.0])|[20.0,41.0,47.0]|[0.18518518518518...|\n",
            "| 20| 41| 48|Sitdown_chair|Accelerometer-201...|       7.0|  (12,[7],[1.0])|[20.0,41.0,48.0]|[0.18348623853211...|\n",
            "| 20| 57| 33|Sitdown_chair|Accelerometer-201...|       7.0|  (12,[7],[1.0])|[20.0,57.0,33.0]|[0.18181818181818...|\n",
            "| 21| 41| 47|Sitdown_chair|Accelerometer-201...|       7.0|  (12,[7],[1.0])|[21.0,41.0,47.0]|[0.19266055045871...|\n",
            "| 20| 40| 47|Sitdown_chair|Accelerometer-201...|       7.0|  (12,[7],[1.0])|[20.0,40.0,47.0]|[0.18691588785046...|\n",
            "| 22| 40| 47|Sitdown_chair|Accelerometer-201...|       7.0|  (12,[7],[1.0])|[22.0,40.0,47.0]|[0.20183486238532...|\n",
            "| 22| 40| 47|Sitdown_chair|Accelerometer-201...|       7.0|  (12,[7],[1.0])|[22.0,40.0,47.0]|[0.20183486238532...|\n",
            "| 20| 41| 47|Sitdown_chair|Accelerometer-201...|       7.0|  (12,[7],[1.0])|[20.0,41.0,47.0]|[0.18518518518518...|\n",
            "| 21| 41| 47|Sitdown_chair|Accelerometer-201...|       7.0|  (12,[7],[1.0])|[21.0,41.0,47.0]|[0.19266055045871...|\n",
            "| 21| 41| 46|Sitdown_chair|Accelerometer-201...|       7.0|  (12,[7],[1.0])|[21.0,41.0,46.0]|[0.19444444444444...|\n",
            "| 21| 42| 47|Sitdown_chair|Accelerometer-201...|       7.0|  (12,[7],[1.0])|[21.0,42.0,47.0]|[0.19090909090909...|\n",
            "| 21| 42| 48|Sitdown_chair|Accelerometer-201...|       7.0|  (12,[7],[1.0])|[21.0,42.0,48.0]|[0.18918918918918...|\n",
            "| 20| 42| 47|Sitdown_chair|Accelerometer-201...|       7.0|  (12,[7],[1.0])|[20.0,42.0,47.0]|[0.18348623853211...|\n",
            "| 21| 41| 47|Sitdown_chair|Accelerometer-201...|       7.0|  (12,[7],[1.0])|[21.0,41.0,47.0]|[0.19266055045871...|\n",
            "| 20| 41| 47|Sitdown_chair|Accelerometer-201...|       7.0|  (12,[7],[1.0])|[20.0,41.0,47.0]|[0.18518518518518...|\n",
            "| 21| 41| 47|Sitdown_chair|Accelerometer-201...|       7.0|  (12,[7],[1.0])|[21.0,41.0,47.0]|[0.19266055045871...|\n",
            "| 22| 41| 47|Sitdown_chair|Accelerometer-201...|       7.0|  (12,[7],[1.0])|[22.0,41.0,47.0]|[0.2,0.3727272727...|\n",
            "| 22| 41| 48|Sitdown_chair|Accelerometer-201...|       7.0|  (12,[7],[1.0])|[22.0,41.0,48.0]|[0.19819819819819...|\n",
            "| 22| 41| 48|Sitdown_chair|Accelerometer-201...|       7.0|  (12,[7],[1.0])|[22.0,41.0,48.0]|[0.19819819819819...|\n",
            "| 21| 40| 47|Sitdown_chair|Accelerometer-201...|       7.0|  (12,[7],[1.0])|[21.0,40.0,47.0]|[0.19444444444444...|\n",
            "+---+---+---+-------------+--------------------+----------+----------------+----------------+--------------------+\n",
            "only showing top 20 rows\n",
            "\n"
          ]
        }
      ]
    },
    {
      "cell_type": "markdown",
      "source": [
        "**ML Pipeline:**"
      ],
      "metadata": {
        "id": "wTIR-rI6gN16"
      }
    },
    {
      "cell_type": "code",
      "source": [
        "from pyspark.ml import Pipeline\n",
        "pipeline=Pipeline(stages=[indexer,encoder,vectorAssembler,normalizer])\n",
        "\n",
        "ml_model=pipeline.fit(df)\n",
        "\n",
        "ml_model=ml_model.transform(df)\n",
        "\n",
        "ml_model.show()\n"
      ],
      "metadata": {
        "colab": {
          "base_uri": "https://localhost:8080/"
        },
        "id": "7SwKfVMMTWPe",
        "outputId": "76bd0904-bc97-4d06-8fb1-4c9834d45d54"
      },
      "execution_count": 50,
      "outputs": [
        {
          "output_type": "stream",
          "name": "stdout",
          "text": [
            "+---+---+---+-------------+--------------------+----------+----------------+----------------+--------------------+\n",
            "|  x|  y|  z|        class|              source|classIndex|classCategoryVec|        features|       features_norm|\n",
            "+---+---+---+-------------+--------------------+----------+----------------+----------------+--------------------+\n",
            "| 20| 41| 47|Sitdown_chair|Accelerometer-201...|       7.0|  (12,[7],[1.0])|[20.0,41.0,47.0]|[0.18518518518518...|\n",
            "| 20| 41| 48|Sitdown_chair|Accelerometer-201...|       7.0|  (12,[7],[1.0])|[20.0,41.0,48.0]|[0.18348623853211...|\n",
            "| 20| 57| 33|Sitdown_chair|Accelerometer-201...|       7.0|  (12,[7],[1.0])|[20.0,57.0,33.0]|[0.18181818181818...|\n",
            "| 21| 41| 47|Sitdown_chair|Accelerometer-201...|       7.0|  (12,[7],[1.0])|[21.0,41.0,47.0]|[0.19266055045871...|\n",
            "| 20| 40| 47|Sitdown_chair|Accelerometer-201...|       7.0|  (12,[7],[1.0])|[20.0,40.0,47.0]|[0.18691588785046...|\n",
            "| 22| 40| 47|Sitdown_chair|Accelerometer-201...|       7.0|  (12,[7],[1.0])|[22.0,40.0,47.0]|[0.20183486238532...|\n",
            "| 22| 40| 47|Sitdown_chair|Accelerometer-201...|       7.0|  (12,[7],[1.0])|[22.0,40.0,47.0]|[0.20183486238532...|\n",
            "| 20| 41| 47|Sitdown_chair|Accelerometer-201...|       7.0|  (12,[7],[1.0])|[20.0,41.0,47.0]|[0.18518518518518...|\n",
            "| 21| 41| 47|Sitdown_chair|Accelerometer-201...|       7.0|  (12,[7],[1.0])|[21.0,41.0,47.0]|[0.19266055045871...|\n",
            "| 21| 41| 46|Sitdown_chair|Accelerometer-201...|       7.0|  (12,[7],[1.0])|[21.0,41.0,46.0]|[0.19444444444444...|\n",
            "| 21| 42| 47|Sitdown_chair|Accelerometer-201...|       7.0|  (12,[7],[1.0])|[21.0,42.0,47.0]|[0.19090909090909...|\n",
            "| 21| 42| 48|Sitdown_chair|Accelerometer-201...|       7.0|  (12,[7],[1.0])|[21.0,42.0,48.0]|[0.18918918918918...|\n",
            "| 20| 42| 47|Sitdown_chair|Accelerometer-201...|       7.0|  (12,[7],[1.0])|[20.0,42.0,47.0]|[0.18348623853211...|\n",
            "| 21| 41| 47|Sitdown_chair|Accelerometer-201...|       7.0|  (12,[7],[1.0])|[21.0,41.0,47.0]|[0.19266055045871...|\n",
            "| 20| 41| 47|Sitdown_chair|Accelerometer-201...|       7.0|  (12,[7],[1.0])|[20.0,41.0,47.0]|[0.18518518518518...|\n",
            "| 21| 41| 47|Sitdown_chair|Accelerometer-201...|       7.0|  (12,[7],[1.0])|[21.0,41.0,47.0]|[0.19266055045871...|\n",
            "| 22| 41| 47|Sitdown_chair|Accelerometer-201...|       7.0|  (12,[7],[1.0])|[22.0,41.0,47.0]|[0.2,0.3727272727...|\n",
            "| 22| 41| 48|Sitdown_chair|Accelerometer-201...|       7.0|  (12,[7],[1.0])|[22.0,41.0,48.0]|[0.19819819819819...|\n",
            "| 22| 41| 48|Sitdown_chair|Accelerometer-201...|       7.0|  (12,[7],[1.0])|[22.0,41.0,48.0]|[0.19819819819819...|\n",
            "| 21| 40| 47|Sitdown_chair|Accelerometer-201...|       7.0|  (12,[7],[1.0])|[21.0,40.0,47.0]|[0.19444444444444...|\n",
            "+---+---+---+-------------+--------------------+----------+----------------+----------------+--------------------+\n",
            "only showing top 20 rows\n",
            "\n"
          ]
        }
      ]
    },
    {
      "cell_type": "code",
      "source": [
        "#filter columns:\n",
        "df_train=ml_model.drop('x').drop('y').drop('z').drop('class').drop('source').drop('features').drop('classIndex')"
      ],
      "metadata": {
        "id": "Zyjw8VuFwx8C"
      },
      "execution_count": 54,
      "outputs": []
    },
    {
      "cell_type": "code",
      "source": [
        "df_train.show()"
      ],
      "metadata": {
        "id": "0W1WbMTjVVmI",
        "colab": {
          "base_uri": "https://localhost:8080/"
        },
        "outputId": "7b3ca51d-9a8f-42c2-b5e6-5fc3490425e8"
      },
      "execution_count": 55,
      "outputs": [
        {
          "output_type": "stream",
          "name": "stdout",
          "text": [
            "+----------------+--------------------+\n",
            "|classCategoryVec|       features_norm|\n",
            "+----------------+--------------------+\n",
            "|  (12,[7],[1.0])|[0.18518518518518...|\n",
            "|  (12,[7],[1.0])|[0.18348623853211...|\n",
            "|  (12,[7],[1.0])|[0.18181818181818...|\n",
            "|  (12,[7],[1.0])|[0.19266055045871...|\n",
            "|  (12,[7],[1.0])|[0.18691588785046...|\n",
            "|  (12,[7],[1.0])|[0.20183486238532...|\n",
            "|  (12,[7],[1.0])|[0.20183486238532...|\n",
            "|  (12,[7],[1.0])|[0.18518518518518...|\n",
            "|  (12,[7],[1.0])|[0.19266055045871...|\n",
            "|  (12,[7],[1.0])|[0.19444444444444...|\n",
            "|  (12,[7],[1.0])|[0.19090909090909...|\n",
            "|  (12,[7],[1.0])|[0.18918918918918...|\n",
            "|  (12,[7],[1.0])|[0.18348623853211...|\n",
            "|  (12,[7],[1.0])|[0.19266055045871...|\n",
            "|  (12,[7],[1.0])|[0.18518518518518...|\n",
            "|  (12,[7],[1.0])|[0.19266055045871...|\n",
            "|  (12,[7],[1.0])|[0.2,0.3727272727...|\n",
            "|  (12,[7],[1.0])|[0.19819819819819...|\n",
            "|  (12,[7],[1.0])|[0.19819819819819...|\n",
            "|  (12,[7],[1.0])|[0.19444444444444...|\n",
            "+----------------+--------------------+\n",
            "only showing top 20 rows\n",
            "\n"
          ]
        }
      ]
    },
    {
      "cell_type": "code",
      "source": [
        "spark.stop()"
      ],
      "metadata": {
        "id": "j-1O-RF-VVoR"
      },
      "execution_count": 57,
      "outputs": []
    },
    {
      "cell_type": "code",
      "source": [],
      "metadata": {
        "id": "NEsqjzp7RWHQ"
      },
      "execution_count": null,
      "outputs": []
    }
  ]
}
